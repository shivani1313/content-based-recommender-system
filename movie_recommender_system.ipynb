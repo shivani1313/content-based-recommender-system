{
  "nbformat": 4,
  "nbformat_minor": 0,
  "metadata": {
    "colab": {
      "provenance": []
    },
    "kernelspec": {
      "name": "python3",
      "display_name": "Python 3"
    },
    "language_info": {
      "name": "python"
    }
  },
  "cells": [
    {
      "cell_type": "code",
      "execution_count": 2,
      "metadata": {
        "colab": {
          "base_uri": "https://localhost:8080/"
        },
        "id": "mTaaRssKDdPE",
        "outputId": "734938c1-4e9f-4fbb-e776-ae4cdb34f095"
      },
      "outputs": [
        {
          "output_type": "stream",
          "name": "stderr",
          "text": [
            "<ipython-input-2-4327585e8c6e>:63: SettingWithCopyWarning: \n",
            "A value is trying to be set on a copy of a slice from a DataFrame.\n",
            "Try using .loc[row_indexer,col_indexer] = value instead\n",
            "\n",
            "See the caveats in the documentation: https://pandas.pydata.org/pandas-docs/stable/user_guide/indexing.html#returning-a-view-versus-a-copy\n",
            "  new_df['tags'] = new_df['tags'].apply(lambda x:\" \".join(x))\n",
            "<ipython-input-2-4327585e8c6e>:64: SettingWithCopyWarning: \n",
            "A value is trying to be set on a copy of a slice from a DataFrame.\n",
            "Try using .loc[row_indexer,col_indexer] = value instead\n",
            "\n",
            "See the caveats in the documentation: https://pandas.pydata.org/pandas-docs/stable/user_guide/indexing.html#returning-a-view-versus-a-copy\n",
            "  new_df['tags'] = new_df['tags'].apply(lambda x: x.lower())\n"
          ]
        }
      ],
      "source": [
        "import numpy as np\n",
        "import pandas as pd\n",
        "\n",
        "movies = pd.read_csv(\"tmdb_5000_movies.csv\")\n",
        "credits = pd.read_csv(\"tmdb_5000_credits.csv\")\n",
        "\n",
        "# combining the two datasets\n",
        "movies = movies.merge(credits, on = 'title')\n",
        "\n",
        "# Choosing required columns - eliminated all numeric columns and columns that dont contribute to recommending on the basis of content\n",
        "# genres, id, keywords, title, overview, cast, crew\n",
        "movies = movies[['movie_id', 'title', 'overview', 'genres', 'keywords', 'cast', 'crew']]\n",
        "\n",
        "movies.isnull().sum()\n",
        "movies.dropna(inplace=True)\n",
        "movies.duplicated().sum()\n",
        "\n",
        "#we use this function to extract the ‘name’ value from dictionaries present in ‘genres’ and ‘keywords’\n",
        "import ast\n",
        "def convert(obj):\n",
        "  L = []\n",
        "  for i in ast.literal_eval(obj):\n",
        "    L.append(i['name'])\n",
        "  return L\n",
        "\n",
        "\n",
        "movies['genres'] = movies['genres'].apply(convert)\n",
        "movies['keywords'] = movies['keywords'].apply(convert)\n",
        "# for extracting the first 3 names of cast\n",
        "def convert3(obj):\n",
        "  L = []\n",
        "  counter = 0\n",
        "  for i in ast.literal_eval(obj):\n",
        "    if counter!= 3:\n",
        "      L.append(i['name'])\n",
        "      counter = counter + 1\n",
        "    else:\n",
        "      break\n",
        "  return L\n",
        "movies['cast'] = movies['cast'].apply(convert3)\n",
        "\n",
        "# for extracting the ‘director’ value from ‘crew’ attribute\n",
        "def fetch_director(obj):\n",
        "  L = []\n",
        "  for i in ast.literal_eval(obj):\n",
        "    if(i['job'] == 'Director'):\n",
        "      L.append(i['name'])\n",
        "      break\n",
        "  return L\n",
        "movies['crew'] = movies['crew'].apply(fetch_director)\n",
        "\n",
        "# performing final pre processing\n",
        "movies['overview'] = movies['overview'].apply(lambda x:x.split())\n",
        "movies['genres'] = movies['genres'].apply(lambda x:[i.replace(\" \",\"\") for i in x])\n",
        "movies['cast'] = movies['cast'].apply(lambda x:[i.replace(\" \",\"\") for i in x])\n",
        "movies['crew'] = movies['crew'].apply(lambda x:[i.replace(\" \",\"\") for i in x])\n",
        "movies['keywords'] = movies['keywords'].apply(lambda x:[i.replace(\" \",\"\") for i in x])\n",
        "\n",
        "# creating ‘tags’ and new_df\n",
        "\n",
        "movies['tags'] = movies['overview'] + movies['genres'] + movies['keywords'] + movies['cast'] + movies['crew']\n",
        "new_df = movies[['movie_id', 'title', 'tags']]\n",
        "new_df['tags'] = new_df['tags'].apply(lambda x:\" \".join(x))\n",
        "new_df['tags'] = new_df['tags'].apply(lambda x: x.lower())\n",
        "\n",
        "\n"
      ]
    },
    {
      "cell_type": "markdown",
      "source": [
        "# Stemming"
      ],
      "metadata": {
        "id": "KFZIEO0SRpNQ"
      }
    },
    {
      "cell_type": "code",
      "source": [
        "import nltk\n",
        "from nltk.stem.porter import PorterStemmer\n",
        "ps = PorterStemmer()\n",
        "\n",
        "def stem(text):\n",
        "  y = []\n",
        "  for i in text.split():\n",
        "    y.append(ps.stem(i))\n",
        "  return \" \".join(y)\n",
        "\n",
        "new_df['tags'] = new_df['tags'].apply(stem)\n",
        "\n"
      ],
      "metadata": {
        "colab": {
          "base_uri": "https://localhost:8080/"
        },
        "id": "ycEFzeePFjYI",
        "outputId": "54418536-a841-48a8-d308-087e3ac50c77"
      },
      "execution_count": 3,
      "outputs": [
        {
          "output_type": "stream",
          "name": "stderr",
          "text": [
            "<ipython-input-3-639baf0559e2>:11: SettingWithCopyWarning: \n",
            "A value is trying to be set on a copy of a slice from a DataFrame.\n",
            "Try using .loc[row_indexer,col_indexer] = value instead\n",
            "\n",
            "See the caveats in the documentation: https://pandas.pydata.org/pandas-docs/stable/user_guide/indexing.html#returning-a-view-versus-a-copy\n",
            "  new_df['tags'] = new_df['tags'].apply(stem)\n"
          ]
        }
      ]
    },
    {
      "cell_type": "markdown",
      "source": [
        "# Text Vectorization"
      ],
      "metadata": {
        "id": "qifim2hxRuCs"
      }
    },
    {
      "cell_type": "code",
      "source": [
        "from sklearn.feature_extraction.text import CountVectorizer\n",
        "cv = CountVectorizer(max_features=5000, stop_words='english')\n",
        "vectors = cv.fit_transform(new_df['tags']).toarray()\n",
        "cv.get_feature_names_out()\n"
      ],
      "metadata": {
        "colab": {
          "base_uri": "https://localhost:8080/"
        },
        "id": "ebaEhBPlLZf0",
        "outputId": "6b63ac7c-990b-4614-a5a1-f72bcb52e80f"
      },
      "execution_count": 4,
      "outputs": [
        {
          "output_type": "execute_result",
          "data": {
            "text/plain": [
              "array(['000', '007', '10', ..., 'zone', 'zoo', 'zooeydeschanel'],\n",
              "      dtype=object)"
            ]
          },
          "metadata": {},
          "execution_count": 4
        }
      ]
    },
    {
      "cell_type": "markdown",
      "source": [
        "# Cosine Similarity"
      ],
      "metadata": {
        "id": "5EoQI6JwR488"
      }
    },
    {
      "cell_type": "code",
      "source": [
        "from sklearn.metrics.pairwise import cosine_similarity\n",
        "similarity = cosine_similarity(vectors)\n",
        "\n",
        "# recommendation function\n",
        "def recommend(movie):\n",
        "  movie_index = new_df[new_df['title'] == movie].index[0]\n",
        "  distances = similarity[movie_index]\n",
        "  movies_list = sorted(list(enumerate(distances)), reverse = True, key = lambda x:x[1])[1:6]\n",
        "\n",
        "  for i in movies_list:\n",
        "    print(new_df.iloc[i[0]].title)\n"
      ],
      "metadata": {
        "id": "3NMN1MgmLkOH"
      },
      "execution_count": 5,
      "outputs": []
    },
    {
      "cell_type": "markdown",
      "source": [
        "# Transferring using pickle"
      ],
      "metadata": {
        "id": "Lg3HM0uaSBh2"
      }
    },
    {
      "cell_type": "code",
      "source": [
        "import pickle\n",
        "\n",
        "#because to use pickle we cant directly transfer pandas dataframe\n",
        "new_df = new_df.to_dict()\n",
        "pickle.dump(new_df, open('movie_dict.pkl', 'wb'))\n",
        "pickle.dump(similarity, open('similarity.pkl', 'wb'))\n",
        "\n"
      ],
      "metadata": {
        "id": "Zwe5AxZQLtmN"
      },
      "execution_count": 6,
      "outputs": []
    },
    {
      "cell_type": "code",
      "source": [],
      "metadata": {
        "id": "JQPaNF6XL5o7"
      },
      "execution_count": null,
      "outputs": []
    }
  ]
}